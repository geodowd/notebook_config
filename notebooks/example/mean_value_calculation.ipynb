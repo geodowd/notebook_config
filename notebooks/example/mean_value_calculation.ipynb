{
 "cells": [
  {
   "cell_type": "code",
   "execution_count": null,
   "id": "a8ef9db7",
   "metadata": {},
   "outputs": [],
   "source": [
    "import rasterio\n",
    "from rasterio.windows import from_bounds\n",
    "import numpy as np\n",
    "import matplotlib.pyplot as plt\n"
   ]
  },
  {
   "cell_type": "code",
   "execution_count": null,
   "id": "72633031",
   "metadata": {},
   "outputs": [],
   "source": [
    "def read_window(cog_path, bbox):\n",
    "    with rasterio.open(cog_path) as src:\n",
    "        window = from_bounds(*bbox, transform=src.transform)\n",
    "        data = src.read(1, window=window, masked=True)\n",
    "    return data"
   ]
  },
  {
   "cell_type": "code",
   "execution_count": null,
   "id": "dea1c56e",
   "metadata": {},
   "outputs": [],
   "source": [
    "def get_bbox(cog_path):\n",
    "    with rasterio.open(cog_path) as src:\n",
    "        bbox = src.bounds\n",
    "    return bbox"
   ]
  },
  {
   "cell_type": "code",
   "execution_count": null,
   "id": "f9977263",
   "metadata": {},
   "outputs": [],
   "source": [
    "def create_small_bbox(original_bbox):\n",
    "    # minLon, minLat, minLon + 0.008, minLat + 0.008]\n",
    "    center_x = (original_bbox[0] + original_bbox[2]) / 2\n",
    "    center_y = (original_bbox[1] + original_bbox[3]) / 2\n",
    "\n",
    "    # Create a small bbox around the center\n",
    "    small_bbox = [\n",
    "        center_x - 0.004,\n",
    "        center_y - 0.004,\n",
    "        center_x + 0.004,\n",
    "        center_y + 0.004,\n",
    "    ]\n",
    "    return small_bbox"
   ]
  },
  {
   "cell_type": "code",
   "execution_count": null,
   "id": "75c8b634",
   "metadata": {},
   "outputs": [],
   "source": [
    "def return_small_bbox(cog_path):\n",
    "    original_bbox = get_bbox(cog_path)\n",
    "    small_bbox = create_small_bbox(original_bbox)\n",
    "    return small_bbox"
   ]
  },
  {
   "cell_type": "code",
   "execution_count": null,
   "id": "a7453cf1",
   "metadata": {},
   "outputs": [],
   "source": [
    "def mean_value_calculation(cogs, bbox):\n",
    "    arrays = []\n",
    "    for cog in cogs:\n",
    "        try:\n",
    "            arr = read_window(cog, bbox)\n",
    "            arrays.append(arr)\n",
    "        except Exception as e:\n",
    "            print(f\"Error processing {cog}: {e}\")\n",
    "    if not arrays:\n",
    "        print(\"No valid COGs processed.\")\n",
    "        return\n",
    "    # Stack and calculate pixel-wise mean\n",
    "    stack = np.ma.stack(arrays)\n",
    "    mean_img = np.ma.mean(stack, axis=0)\n",
    "    # Display\n",
    "    plt.figure(figsize=(8, 6))\n",
    "    plt.imshow(mean_img, cmap=\"viridis\")\n",
    "    plt.colorbar(label=\"Mean Value\")\n",
    "    plt.title(\"Pixel-wise Mean Across COGs\")\n",
    "    plt.xlabel(\"Column\")\n",
    "    plt.ylabel(\"Row\")\n",
    "    plt.show()"
   ]
  },
  {
   "cell_type": "code",
   "execution_count": null,
   "id": "bdfbb06a",
   "metadata": {},
   "outputs": [],
   "source": [
    "bbox = return_small_bbox(cogs[0])"
   ]
  },
  {
   "cell_type": "code",
   "execution_count": null,
   "id": "6f971602",
   "metadata": {},
   "outputs": [],
   "source": [
    "mean_value_calculation(cogs, bbox)"
   ]
  }
 ],
 "metadata": {
  "kernelspec": {
   "display_name": ".venv",
   "language": "python",
   "name": "python3"
  },
  "language_info": {
   "codemirror_mode": {
    "name": "ipython",
    "version": 3
   },
   "file_extension": ".py",
   "mimetype": "text/x-python",
   "name": "python",
   "nbconvert_exporter": "python",
   "pygments_lexer": "ipython3",
   "version": "3.13.2"
  }
 },
 "nbformat": 4,
 "nbformat_minor": 5
}
