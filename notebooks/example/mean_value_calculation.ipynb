{
 "cells": [
  {
   "cell_type": "code",
   "execution_count": null,
   "id": "a8ef9db7",
   "metadata": {},
   "outputs": [],
   "source": [
    "import rasterio\n",
    "from rasterio.windows import from_bounds\n",
    "import numpy as np\n",
    "import matplotlib.pyplot as plt\n"
   ]
  },
  {
   "cell_type": "code",
   "execution_count": null,
   "id": "72633031",
   "metadata": {},
   "outputs": [],
   "source": [
    "def read_window(cog_path, bbox):\n",
    "    with rasterio.open(cog_path) as src:\n",
    "        window = from_bounds(*bbox, transform=src.transform)\n",
    "        data = src.read(1, window=window, masked=True)\n",
    "    return data"
   ]
  },
  {
   "cell_type": "code",
   "execution_count": null,
   "id": "a7453cf1",
   "metadata": {},
   "outputs": [],
   "source": [
    "def mean_value_calculation(cogs, bbox):\n",
    "    arrays = []\n",
    "    for cog in cogs:\n",
    "        try:\n",
    "            arr = read_window(cog, bbox)\n",
    "            arrays.append(arr)\n",
    "        except Exception as e:\n",
    "            print(f\"Error processing {cog}: {e}\")\n",
    "    if not arrays:\n",
    "        print(\"No valid COGs processed.\")\n",
    "        return\n",
    "    # Stack and calculate pixel-wise mean\n",
    "    stack = np.ma.stack(arrays)\n",
    "    mean_img = np.ma.mean(stack, axis=0)\n",
    "    # Display\n",
    "    plt.figure(figsize=(8, 6))\n",
    "    plt.imshow(mean_img, cmap=\"viridis\")\n",
    "    plt.colorbar(label=\"Mean Value\")\n",
    "    plt.title(\"Pixel-wise Mean Across COGs\")\n",
    "    plt.xlabel(\"Column\")\n",
    "    plt.ylabel(\"Row\")\n",
    "    plt.show()"
   ]
  },
  {
   "cell_type": "markdown",
   "id": "a130581e",
   "metadata": {},
   "source": [
    "cogs = \"https://dap.ceda.ac.uk/neodc/sentinel_ard/data/sentinel_2/2025/07/02/S2C_20250702_latn537lonw0037_T30UVE_ORB037_20250702133100_utm30n_osgb_vmsk_sharp_rad_srefdem_stdsref.tif,https://dap.ceda.ac.uk/neodc/sentinel_ard/data/sentinel_1/2025/06/30/S1A_20250630_125_desc_063918_063943_VVVH_G0_NI_TM65_RTCK_SpkRL.tif,https://dap.ceda.ac.uk/neodc/sentinel_ard/data/sentinel_1/2025/06/28/S1A_20250628_103_asc_180657_180722_VVVH_G0_GB_OSGB_RTCK_SpkRL.tif\""
   ]
  },
  {
   "cell_type": "code",
   "execution_count": null,
   "id": "becadb93",
   "metadata": {},
   "outputs": [
    {
     "data": {
      "text/plain": [
       "['https://dap.ceda.ac.uk/neodc/sentinel_ard/data/sentinel_2/2025/07/02/S2C_20250702_latn537lonw0037_T30UVE_ORB037_20250702133100_utm30n_osgb_vmsk_sharp_rad_srefdem_stdsref.tif',\n",
       " 'https://dap.ceda.ac.uk/neodc/sentinel_ard/data/sentinel_1/2025/06/30/S1A_20250630_125_desc_063918_063943_VVVH_G0_NI_TM65_RTCK_SpkRL.tif',\n",
       " 'https://dap.ceda.ac.uk/neodc/sentinel_ard/data/sentinel_1/2025/06/28/S1A_20250628_103_asc_180657_180722_VVVH_G0_GB_OSGB_RTCK_SpkRL.tif']"
      ]
     },
     "execution_count": 4,
     "metadata": {},
     "output_type": "execute_result"
    }
   ],
   "source": [
    "cogs = cogs.split(\",\")"
   ]
  },
  {
   "cell_type": "code",
   "execution_count": null,
   "id": "6f971602",
   "metadata": {},
   "outputs": [],
   "source": [
    "mean_value_calculation(cogs, bbox)"
   ]
  }
 ],
 "metadata": {
  "kernelspec": {
   "display_name": "generic",
   "language": "python",
   "name": "python3"
  },
  "language_info": {
   "codemirror_mode": {
    "name": "ipython",
    "version": 3
   },
   "file_extension": ".py",
   "mimetype": "text/x-python",
   "name": "python",
   "nbconvert_exporter": "python",
   "pygments_lexer": "ipython3",
   "version": "3.13.1"
  }
 },
 "nbformat": 4,
 "nbformat_minor": 5
}
