{
 "cells": [
  {
   "cell_type": "code",
   "execution_count": null,
   "id": "ffc4516f-d241-425c-bc94-6c6d6af003f4",
   "metadata": {
    "editable": true,
    "slideshow": {
     "slide_type": ""
    },
    "tags": []
   },
   "outputs": [],
   "source": [
    "import rioxarray\n",
    "import matplotlib.pyplot as plt\n",
    "from pyproj import CRS, Transformer"
   ]
  },
  {
   "cell_type": "code",
   "execution_count": null,
   "id": "cc375ace-6aa8-4b58-ba12-8c0ff3677b06",
   "metadata": {},
   "outputs": [],
   "source": [
    "try:\n",
    "    rds = rioxarray.open_rasterio(cog_url)\n",
    "    print(\"Successfully opened the GeoTIFF from the cloud.\")\n",
    "    print(\"Data dimensions:\", rds.dims)\n",
    "    print(\"Coordinate system:\", rds.rio.crs)\n",
    "\n",
    "    # Define the bounding box coordinates (min_lon, min_lat, max_lon, max_lat) in EPSG:4326\n",
    "    # min_lon_wgs84, min_lat_wgs84, max_lon_wgs84, max_lat_wgs84 = -4.136842, 52.582352, -4.049981, 52.632494\n",
    "    if bbox is not None:\n",
    "        min_lon_wgs84, min_lat_wgs84, max_lon_wgs84, max_lat_wgs84 = bbox\n",
    "        print(f\"Using passed bbox: {bbox}\")\n",
    "    else:\n",
    "        print(\"No bbox passed\")\n",
    "\n",
    "    # Check the CRS of the opened raster\n",
    "    raster_crs = rds.rio.crs\n",
    "\n",
    "    # If the raster CRS is not EPSG:4326, transform the bounding box coordinates\n",
    "    if raster_crs != CRS(\"EPSG:4326\"):\n",
    "        print(\"Transforming bbox\")\n",
    "        # Define the transformer from WGS84 (EPSG:4326) to the raster's CRS\n",
    "        transformer = Transformer.from_crs(CRS(\"EPSG:4326\"), raster_crs, always_xy=True)\n",
    "\n",
    "        # Transform the bounding box coordinates\n",
    "        min_x, min_y = transformer.transform(min_lon_wgs84, min_lat_wgs84)\n",
    "        max_x, max_y = transformer.transform(max_lon_wgs84, max_lat_wgs84)\n",
    "    else:\n",
    "        print(\"No transformation needed\")\n",
    "        # If raster is already in WGS84, use the original coordinates\n",
    "        min_x, min_y, max_x, max_y = (\n",
    "            min_lon_wgs84,\n",
    "            min_lat_wgs84,\n",
    "            max_lon_wgs84,\n",
    "            max_lat_wgs84,\n",
    "        )\n",
    "\n",
    "    # Clip the raster to the transformed bounding box\n",
    "    rds = rds.rio.clip_box(minx=min_x, miny=min_y, maxx=max_x, maxy=max_y)\n",
    "    print(\"Successfully clipped the GeoTIFF to the specified bounding box.\")\n",
    "\n",
    "except Exception as e:\n",
    "    print(f\"Failed to open or clip GeoTIFF: {e}\")\n",
    "    exit()"
   ]
  },
  {
   "cell_type": "code",
   "execution_count": null,
   "id": "a57a6e93-3c0e-4619-9fba-24f42d644d31",
   "metadata": {},
   "outputs": [],
   "source": [
    "nir_band = rds.sel(band=8)\n",
    "red_band = rds.sel(band=4)"
   ]
  },
  {
   "cell_type": "code",
   "execution_count": null,
   "id": "7b26113e-eb41-45b5-b5a3-94f3d7f89eee",
   "metadata": {},
   "outputs": [],
   "source": [
    "epsilon = 1e-8\n",
    "ndvi = (nir_band - red_band) / (nir_band + red_band + epsilon)"
   ]
  },
  {
   "cell_type": "code",
   "execution_count": null,
   "id": "a06818db-a5eb-4ae6-b185-59d375b9aecc",
   "metadata": {},
   "outputs": [],
   "source": [
    "plt.figure(figsize=(10, 8))\n",
    "ndvi.plot(cmap=\"viridis\")  # '''viridis''' is a common colormap for NDVI\n",
    "plt.title(\"Calculated NDVI\")\n",
    "plt.xlabel(\"Longitude\")\n",
    "plt.ylabel(\"Latitude\")\n",
    "plt.show()"
   ]
  }
 ],
 "metadata": {
  "kernelspec": {
   "display_name": "Kernel Test",
   "language": "python",
   "name": "test-kernel"
  },
  "language_info": {
   "codemirror_mode": {
    "name": "ipython",
    "version": 3
   },
   "file_extension": ".py",
   "mimetype": "text/x-python",
   "name": "python",
   "nbconvert_exporter": "python",
   "pygments_lexer": "ipython3",
   "version": "3.13.2"
  }
 },
 "nbformat": 4,
 "nbformat_minor": 5
}
