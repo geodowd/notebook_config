{
    "cells": [
        {
            "cell_type": "code",
            "execution_count": null,
            "id": "c29c9282-8142-414b-97b2-469e49fcee1c",
            "metadata": {},
            "outputs": [],
            "source": [
                "import rasterio\n",
                "from rasterio.session import AWSSession\n",
                "from rasterio.enums import Resampling"
            ]
        },
        {
            "cell_type": "code",
            "execution_count": null,
            "id": "e1a149f8-2f66-41a2-bcf0-ec279330aa52",
            "metadata": {},
            "outputs": [],
            "source": [
                "src = rasterio.open(cog_url)"
            ]
        },
        {
            "cell_type": "code",
            "execution_count": null,
            "id": "b2c5db0b-f9b6-4549-8257-18b5d1459159",
            "metadata": {},
            "outputs": [],
            "source": [
                "print(f\"\\n📏 Width x Height: {src.width} x {src.height}\")\n",
                "print(f\"🛰 Number of Bands: {src.count}\")\n",
                "print(f\"📐 CRS: {src.crs}\")\n",
                "print(f\"📦 Data Type: {src.dtypes}\")\n",
                "print(f\"📍 Bounds: {src.bounds}\")\n",
                "print(f\"🧭 Transform: {src.transform}\")"
            ]
        }
    ],
    "metadata": {
        "language_info": {
            "codemirror_mode": {
                "name": "ipython",
                "version": 3
            },
            "file_extension": ".py",
            "mimetype": "text/x-python",
            "name": "python",
            "nbconvert_exporter": "python",
            "pygments_lexer": "ipython3",
            "version": "3.13.2"
        }
    },
    "nbformat": 4,
    "nbformat_minor": 5
}