{
 "cells": [
  {
   "cell_type": "code",
   "execution_count": 26,
   "id": "c29c9282-8142-414b-97b2-469e49fcee1c",
   "metadata": {},
   "outputs": [],
   "source": [
    "import rasterio\n",
    "from rasterio.session import AWSSession\n",
    "from rasterio.enums import Resampling"
   ]
  },
  {
   "cell_type": "code",
   "execution_count": 28,
   "id": "e1a149f8-2f66-41a2-bcf0-ec279330aa52",
   "metadata": {},
   "outputs": [],
   "source": [
    "src = rasterio.open(cog_url)"
   ]
  },
  {
   "cell_type": "code",
   "execution_count": 30,
   "id": "b2c5db0b-f9b6-4549-8257-18b5d1459159",
   "metadata": {},
   "outputs": [
    {
     "name": "stdout",
     "output_type": "stream",
     "text": [
      "\n",
      "📏 Width x Height: 11136 x 11136\n",
      "🛰 Number of Bands: 10\n",
      "📐 CRS: EPSG:27700\n",
      "📦 Data Type: ('uint16', 'uint16', 'uint16', 'uint16', 'uint16', 'uint16', 'uint16', 'uint16', 'uint16', 'uint16')\n",
      "📍 Bounds: BoundingBox(left=233180.0, bottom=363000.0, right=344540.0, top=474360.0)\n",
      "🧭 Transform: | 10.00, 0.00, 233180.00|\n",
      "| 0.00,-10.00, 474360.00|\n",
      "| 0.00, 0.00, 1.00|\n"
     ]
    }
   ],
   "source": [
    "print(f\"\\n📏 Width x Height: {src.width} x {src.height}\")\n",
    "print(f\"🛰 Number of Bands: {src.count}\")\n",
    "print(f\"📐 CRS: {src.crs}\")\n",
    "print(f\"📦 Data Type: {src.dtypes}\")\n",
    "print(f\"📍 Bounds: {src.bounds}\")\n",
    "print(f\"🧭 Transform: {src.transform}\")"
   ]
  }
 ],
 "metadata": {
  "kernelspec": {
   "display_name": "Kernel Test",
   "language": "python",
   "name": "test-kernel"
  },
  "language_info": {
   "codemirror_mode": {
    "name": "ipython",
    "version": 3
   },
   "file_extension": ".py",
   "mimetype": "text/x-python",
   "name": "python",
   "nbconvert_exporter": "python",
   "pygments_lexer": "ipython3",
   "version": "3.13.2"
  }
 },
 "nbformat": 4,
 "nbformat_minor": 5
}
